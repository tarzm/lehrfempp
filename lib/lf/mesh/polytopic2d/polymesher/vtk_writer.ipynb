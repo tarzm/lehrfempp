{
 "cells": [
  {
   "cell_type": "markdown",
   "metadata": {},
   "source": [
    "This code reads polytopic mesh data written by the matlab program PolyMesher: https://link.springer.com/article/10.1007/s00158-011-0706-z. It creates a pyvista.PolyData object out of it and writes it to vtk format. To prevent the meshes from changing every time the matlab script is run, append \"\\_final\" to the matlab output files' names. "
   ]
  },
  {
   "cell_type": "code",
   "execution_count": 1,
   "metadata": {},
   "outputs": [],
   "source": [
    "import numpy as np\n",
    "import pyvista as pv\n",
    "\n",
    "matlab_output_folder = 'matlab_out'\n",
    "output_file_name = \"meshes/Mesh.vtk\""
   ]
  },
  {
   "cell_type": "code",
   "execution_count": 5,
   "metadata": {},
   "outputs": [],
   "source": [
    "def make_mesh(matlab_out_folder, nElements):\n",
    "    #read data\n",
    "    nodes_raw = np.loadtxt(matlab_out_folder + '/' + 'unit_square_' + str(nElements) + '_nodes_final.txt', delimiter = ',')\n",
    "    elements_str = np.loadtxt(matlab_out_folder + '/' + 'unit_square_' + str(nElements) + '_elements_final.txt', delimiter ='\\n', dtype=str)\n",
    "    \n",
    "    #extract cell information and put into right format\n",
    "    subtract_one = lambda x: x-1\n",
    "    elements_list = []\n",
    "    for array in elements_str:\n",
    "        numpy_array = np.fromstring(array, sep=',',dtype='i')\n",
    "        numpy_array = subtract_one(numpy_array)\n",
    "        elements_list.append(np.insert(numpy_array, 0, numpy_array.size))\n",
    "        \n",
    "    cells = np.hstack(elements_list)\n",
    "    #print(elements_list[57])\n",
    "    #print(elements_list[68])\n",
    "    #print(elements_list[438])\n",
    "                             \n",
    "    #add z coordinates of vertices => all 0.0\n",
    "    nodes = np.column_stack((nodes_raw, np.zeros(nodes_raw.shape[0])))\n",
    "    \n",
    "    return pv.PolyData(nodes, cells)      "
   ]
  },
  {
   "cell_type": "code",
   "execution_count": 3,
   "metadata": {},
   "outputs": [],
   "source": [
    "def plot_mesh(mesh):\n",
    "    plotter = pv.Plotter()\n",
    "    plotter.add_mesh(mesh, color = 'blue')\n",
    "    plotter.camera_position = 'xy'\n",
    "\n",
    "    dargs = dict(show_edges=True)\n",
    "    plotter.add_mesh(mesh, color=\"#aedfc0\", **dargs)\n",
    "    plotter.set_background('white')\n",
    "\n",
    "    plotter.show()"
   ]
  },
  {
   "cell_type": "code",
   "execution_count": 6,
   "metadata": {},
   "outputs": [
    {
     "name": "stdout",
     "output_type": "stream",
     "text": [
      "[   6  635   77 1186 1189   83  634]\n",
      "[   6 1500 1499 1816 1813 1503 1504]\n",
      "[   6 1896 1895  696  267 1203 1202]\n"
     ]
    },
    {
     "data": {
      "application/vnd.jupyter.widget-view+json": {
       "model_id": "f6f6659a574a4dd5b49a74ab7a7a5ffd",
       "version_major": 2,
       "version_minor": 0
      },
      "text/plain": [
       "ViewInteractiveWidget(height=768, layout=Layout(height='auto', width='100%'), width=1024)"
      ]
     },
     "metadata": {},
     "output_type": "display_data"
    }
   ],
   "source": [
    "mesh = make_mesh(matlab_output_folder, 1000)\n",
    "plot_mesh(mesh)\n",
    "mesh.save(output_file_name, binary=False)"
   ]
  }
 ],
 "metadata": {
  "kernelspec": {
   "display_name": "Python 3 (ipykernel)",
   "language": "python",
   "name": "python3"
  },
  "language_info": {
   "codemirror_mode": {
    "name": "ipython",
    "version": 3
   },
   "file_extension": ".py",
   "mimetype": "text/x-python",
   "name": "python",
   "nbconvert_exporter": "python",
   "pygments_lexer": "ipython3",
   "version": "3.7.12"
  }
 },
 "nbformat": 4,
 "nbformat_minor": 4
}
